{
 "cells": [
  {
   "cell_type": "markdown",
   "id": "b9751571-83fa-4985-b9b6-81cccfd1c7e5",
   "metadata": {},
   "source": [
    "# Handwritten Digit Classifier "
   ]
  },
  {
   "cell_type": "code",
   "execution_count": 1,
   "id": "16ad1a96-cb08-4f4e-b88e-e563aa6c254b",
   "metadata": {},
   "outputs": [],
   "source": [
    "import numpy as np"
   ]
  }
 ],
 "metadata": {
  "kernelspec": {
   "display_name": "Python 3 (ipykernel)",
   "language": "python",
   "name": "python3"
  },
  "language_info": {
   "codemirror_mode": {
    "name": "ipython",
    "version": 3
   },
   "file_extension": ".py",
   "mimetype": "text/x-python",
   "name": "python",
   "nbconvert_exporter": "python",
   "pygments_lexer": "ipython3",
   "version": "3.11.5"
  }
 },
 "nbformat": 4,
 "nbformat_minor": 5
}
